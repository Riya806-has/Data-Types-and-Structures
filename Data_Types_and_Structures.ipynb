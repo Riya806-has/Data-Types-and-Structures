{
  "nbformat": 4,
  "nbformat_minor": 0,
  "metadata": {
    "colab": {
      "provenance": []
    },
    "kernelspec": {
      "name": "python3",
      "display_name": "Python 3"
    },
    "language_info": {
      "name": "python"
    }
  },
  "cells": [
    {
      "cell_type": "markdown",
      "source": [
        "# Data Types and Structures Questions"
      ],
      "metadata": {
        "id": "yxcDbfiO2fqk"
      }
    },
    {
      "cell_type": "markdown",
      "source": [
        "1. What are data structures, and why are they important?\n",
        "   *  Data structures are fundamental to computer science, defining how data is organized, stored, and processed in a computer system. Data structures are essential for performance, readability, and scalability of code, as well as how well it solves the problem at hand. They provide a way to efficiently access, manage, and manipulate data, which is crucial for building efficient and effective software applications.\n",
        "2.  Explain the difference between mutable and immutable data types with examples.\n",
        "   *  The key difference between mutable and immutable data types lies in whether or not their values can be changed after they are created.\n",
        "         *  Mutable Data Types:\n",
        "\n",
        "        Mutable types can be changed in place after they are created. You can modify, add, or remove elements without creating a new object.\n",
        "\n",
        "     > Examples:\n",
        "     *   Lists\n",
        "     *   Dictionaries\n",
        "     *   Sets"
      ],
      "metadata": {
        "id": "emCL1eKA4MXp"
      }
    },
    {
      "cell_type": "code",
      "source": [
        "# Example Of (List- Mutable)\n",
        "my_list = [1, 2, 3]\n",
        "my_list.append(4)\n",
        "print(my_list)\n"
      ],
      "metadata": {
        "colab": {
          "base_uri": "https://localhost:8080/"
        },
        "collapsed": true,
        "id": "nN4HVG5k9JvW",
        "outputId": "dcb91106-9f47-436c-8cad-617107945f56"
      },
      "execution_count": 2,
      "outputs": [
        {
          "output_type": "stream",
          "name": "stdout",
          "text": [
            "[1, 2, 3, 4]\n"
          ]
        }
      ]
    },
    {
      "cell_type": "markdown",
      "source": [
        "  *   Immutable Data Types:\n",
        "\n",
        "   Immutable types cannot be changed after they are created. Any operation that tries to modify the value will instead create a new object.\n",
        "\n",
        "   > Examples:\n",
        " *   Integers\n",
        " *   Floats\n",
        " *   Strings\n",
        " *   Tuples\n",
        " *   Booleans\n",
        "\n"
      ],
      "metadata": {
        "id": "-Aka_K5g9gZZ"
      }
    },
    {
      "cell_type": "code",
      "source": [
        "# Example of (String-Immutable):\n",
        "my_str = \"hello\"\n",
        "my_str = my_str + \" world\"\n",
        "print(my_str)\n"
      ],
      "metadata": {
        "colab": {
          "base_uri": "https://localhost:8080/"
        },
        "collapsed": true,
        "id": "mF3oFdY2A4LZ",
        "outputId": "391094c5-e5b6-4f8c-bdb4-bc6ccd30c5b3"
      },
      "execution_count": 3,
      "outputs": [
        {
          "output_type": "stream",
          "name": "stdout",
          "text": [
            "hello world\n"
          ]
        }
      ]
    },
    {
      "cell_type": "markdown",
      "source": [
        "3. What are the main differences between lists and tuples in Python?\n",
        "    * The main differences between lists and tuples in Python relate to mutability, performance, and usage are:\n",
        "\n",
        "\n",
        "(A) . Mutability\n",
        "\n",
        "\n",
        "*   List: Mutable — you can change, add, or remove elements.\n",
        "*   Tuple: Immutable — once created, its elements cannot be modified.\n",
        "\n",
        "\n",
        "\n"
      ],
      "metadata": {
        "id": "b6RgGCjaBObv"
      }
    },
    {
      "cell_type": "code",
      "source": [
        "# Example\n",
        "# List (mutable)\n",
        "my_list = [1, 2, 3]\n",
        "my_list[0] = 99\n",
        "print(my_list)\n",
        "\n",
        "# Tuple (immutable)\n",
        "my_tuple = (1, 2, 3)\n",
        "# my_tuple[0] = 99\n"
      ],
      "metadata": {
        "colab": {
          "base_uri": "https://localhost:8080/"
        },
        "id": "hdRQr8-BDc1Y",
        "outputId": "3aa0ccbc-8bbc-4f46-b06b-2bd479228215"
      },
      "execution_count": 5,
      "outputs": [
        {
          "output_type": "stream",
          "name": "stdout",
          "text": [
            "[99, 2, 3]\n"
          ]
        }
      ]
    },
    {
      "cell_type": "markdown",
      "source": [
        "\n",
        "\n",
        "(B).   Performance\n",
        "\n",
        " *   Tuple: Faster than lists for iteration and storage (because they're immutable).\n",
        " *   List: Slightly slower due to flexibility.\n",
        "\n",
        "\n",
        "*   Use case:\n",
        "\n",
        "   Use tuples when your data shouldn't change and you want better performance.\n",
        "\n",
        "\n",
        "(C).    Use as Dictionary Keys\n",
        "\n",
        " *   Tuple: Can be used as a key in a dictionary if it only contains immutable elements.\n",
        " *   List: Cannot be used as a dictionary key (because it's mutable).\n",
        "\n",
        "\n",
        "\n",
        "\n",
        "\n",
        "\n",
        "\n"
      ],
      "metadata": {
        "id": "gaHbj-e5DwVp"
      }
    },
    {
      "cell_type": "code",
      "source": [
        "# Example\n",
        "# Valid\n",
        "my_dict = {(1, 2): \"a tuple key\"}\n",
        "\n",
        "# Invalid\n",
        "# my_dict = {[1, 2]: \"a list key\"}\n",
        "\n"
      ],
      "metadata": {
        "id": "FIlScnj8FEEz"
      },
      "execution_count": 10,
      "outputs": []
    },
    {
      "cell_type": "markdown",
      "source": [
        "\n",
        "\n",
        "(D).   Syntax\n",
        "\n",
        "\n",
        " *  List: Created with square brackets []\n",
        " *  Tuple: Created with parentheses () or without any if comma-separated\n",
        "\n",
        "\n",
        "\n"
      ],
      "metadata": {
        "id": "HM-ePjckFiwA"
      }
    },
    {
      "cell_type": "code",
      "source": [
        "# Example\n",
        "my_list = [1, 2, 3]\n",
        "my_tuple = (1, 2, 3)\n"
      ],
      "metadata": {
        "id": "R19AAjEeGBSY"
      },
      "execution_count": 11,
      "outputs": []
    },
    {
      "cell_type": "markdown",
      "source": [
        "\n",
        "\n",
        "(E).   Functions and Methods\n",
        "\n",
        "*   List: Has many built-in methods (append(), remove(), sort(), etc.)\n",
        "*   Tuple: Has only two methods: count() and index()\n",
        "\n",
        "\n",
        "\n",
        "\n"
      ],
      "metadata": {
        "id": "REhiahdPGNIM"
      }
    },
    {
      "cell_type": "markdown",
      "source": [
        "4. Describe how dictionaries store data.\n",
        "   *  Dictionaries in Python store data as key-value pairs using a data structure called a hash table. This allows for fast lookups, insertions, and deletions.\n",
        "\n",
        "\n",
        "1.   Basic Structure\n",
        "\n",
        "      A dictionary looks like this:\n",
        "\n",
        "\n",
        "\n",
        "\n",
        "\n"
      ],
      "metadata": {
        "id": "7G4VOnCuGtsT"
      }
    },
    {
      "cell_type": "code",
      "source": [
        "my_dict = {'name': 'Alice', 'age': 30}\n"
      ],
      "metadata": {
        "id": "cEO334AyH6v_"
      },
      "execution_count": 12,
      "outputs": []
    },
    {
      "cell_type": "markdown",
      "source": [
        "Each entry has:\n",
        "\n",
        "*   A key (e.g., 'name')\n",
        "*   A value (e.g., 'Alice')\n",
        "\n",
        "\n",
        "\n",
        "2.   How It Works Internally\n",
        "\n",
        "\n",
        "\n",
        "(a).   Hashing the Key\n",
        "\n",
        "*   Python uses a hash function to convert the key into a hash value (a fixed-size integer).\n",
        "*   This hash value determines where the key-value pair will be stored in memory.\n",
        "\n",
        "\n",
        "(b).   Storing the Pair\n",
        "\n",
        "*   The hash value is used to find an index in an internal array.\n",
        "*   The key and value are stored at that index.\n",
        "\n",
        "\n",
        "(c).   Handling Collisions\n",
        "\n",
        "*   If two keys hash to the same index (a collision), Python handles it with open addressing or probing (searching for the next available slot).\n",
        "\n",
        "\n",
        "(d).    Retrieving a Value\n",
        "\n",
        "*   When you do my_dict['name'], Python:\n",
        "   *  Hashes the key 'name'\n",
        "\n",
        "   *  Finds the index\n",
        "\n",
        "  *  Retrieves the corresponding value 'Alice'\n",
        "\n",
        "\n",
        "\n",
        "  >   Key Requirements\n",
        "\n",
        "*   Keys must be immutable and hashable (e.g., strings, numbers, tuples with only immutable elements).\n",
        "*   Values can be of any type.\n",
        "  >   Efficiency\n",
        "\n",
        "*   Average time complexity:\n",
        "  *  Lookup: O(1)\n",
        "\n",
        "  * Insert: O(1)\n",
        "\n",
        "  * Delete: O(1)\n",
        "\n",
        "\n",
        "\n",
        "\n",
        "\n",
        "\n",
        "\n",
        "\n",
        "*   In rare worst-case scenarios (many hash collisions), operations degrade to O(n).\n",
        "\n",
        "\n",
        "\n",
        "\n",
        "\n",
        "\n"
      ],
      "metadata": {
        "id": "4JMX-NJhH9jG"
      }
    },
    {
      "cell_type": "code",
      "source": [
        "# Example\n",
        "person = {\n",
        "    'name': 'Alice',\n",
        "    'age': 30,\n",
        "    'job': 'Engineer'\n",
        "}\n",
        "\n",
        "print(person['job'])\n"
      ],
      "metadata": {
        "colab": {
          "base_uri": "https://localhost:8080/"
        },
        "collapsed": true,
        "id": "m5oeMUTbNfDl",
        "outputId": "4600200a-2ddd-480f-aa64-42ae69d31c84"
      },
      "execution_count": 15,
      "outputs": [
        {
          "output_type": "stream",
          "name": "stdout",
          "text": [
            "Engineer\n"
          ]
        }
      ]
    },
    {
      "cell_type": "markdown",
      "source": [
        "5. Why might you use a set instead of a list in Python?\n",
        "   *  You might use a set instead of a list in Python when you need:\n",
        "\n",
        "\n",
        "(a).   Unique Elements\n",
        "\n",
        "Sets automatically remove duplicates — ideal when you care only about distinct items.\n",
        "\n",
        "\n"
      ],
      "metadata": {
        "id": "3p9x1siZOzek"
      }
    },
    {
      "cell_type": "code",
      "source": [
        "# Example:\n",
        "my_list = [1, 2, 2, 3]\n",
        "my_set = set(my_list)\n",
        "print(my_set)\n"
      ],
      "metadata": {
        "id": "ywVMOD0lPsjc"
      },
      "execution_count": null,
      "outputs": []
    },
    {
      "cell_type": "markdown",
      "source": [
        "\n",
        "(b).   Fast Membership Testing\n",
        "\n",
        "Sets use hash tables, so checking if an item is present is much faster (average O(1)) compared to a list (O(n)).\n",
        "\n"
      ],
      "metadata": {
        "id": "E04vRsrPP4ap"
      }
    },
    {
      "cell_type": "code",
      "source": [
        "# Example:\n",
        "# With a large dataset\n",
        "if item in my_set:  # Fast\n",
        "    ...\n"
      ],
      "metadata": {
        "id": "i-0Q_sjQQmU5"
      },
      "execution_count": null,
      "outputs": []
    },
    {
      "cell_type": "markdown",
      "source": [
        "\n",
        "\n",
        "(c).   Set Operations\n",
        "\n",
        "Sets support mathematical set operations like union, intersection, and difference — lists don't.\n",
        "\n"
      ],
      "metadata": {
        "id": "m8pIAg4IQq54"
      }
    },
    {
      "cell_type": "code",
      "source": [
        "# Example:\n",
        "a = {1, 2, 3}\n",
        "b = {3, 4, 5}\n",
        "\n",
        "print(a & b)\n",
        "print(a | b)\n",
        "print(a - b)\n"
      ],
      "metadata": {
        "id": "MWfYsv-uRDDP"
      },
      "execution_count": null,
      "outputs": []
    },
    {
      "cell_type": "markdown",
      "source": [
        "> When Not to Use a Set\n",
        "\n",
        "*   If you need to maintain order (before Python 3.7+, sets were unordered).\n",
        "\n",
        "* If you need duplicates.\n",
        "\n",
        "* If you need indexing (like my_list[0]) — sets don’t support indexing or slicing.\n",
        "\n"
      ],
      "metadata": {
        "id": "QuNU-4FLRYMF"
      }
    },
    {
      "cell_type": "markdown",
      "source": [
        "6. What is a string in Python, and how is it different from a list?\n",
        "   *  Here's the comparison between strings and lists in Python, presented as clear, bullet-pointed facts:\n",
        "\n",
        "(a) What is a String in Python?\n",
        " * A string is a sequence of characters used to represent text.\n",
        "\n",
        " * Defined using quotes: 'text', \"text\", or '''multi-line'''.\n",
        "\n",
        " * Each character is indexed starting from 0.\n",
        "\n",
        " * Strings are immutable — once created, they cannot be changed.\n",
        "\n",
        " * Strings are ideal for text manipulation.\n",
        "\n",
        "(b) What is a List in Python?\n",
        " * A list is a mutable sequence that can store elements of any type (strings, numbers, booleans, even other lists).\n",
        "\n",
        " * Defined using square brackets: [1, 'a', 3.14].\n",
        "\n",
        " * Lists support indexing, slicing, and modification.\n",
        "\n",
        " * Elements in a list can be changed, added, or removed.\n",
        "\n",
        " * Lists are used for storing collections of items.\n",
        " > Key Differences Between String and List\n",
        "\n",
        "(A).   Mutability:\n",
        "\n",
        "\n",
        "*   String → Immutable\n",
        "*  List → Mutable\n",
        "\n",
        "\n",
        "\n",
        "(B).   Content Type:\n",
        "\n",
        "*   String → Only characters\n",
        "*   List → Any data type\n",
        "\n",
        "\n",
        "\n",
        "(C).   Syntax:\n",
        "\n",
        "*  String → \"Hello\"\n",
        "*  List → [\"H\", \"e\", \"l\", \"l\", \"o\"]\n",
        "\n",
        "\n",
        "\n",
        "(D).   Modification:\n",
        "\n",
        "*   String → Cannot modify individual characters\n",
        "*   List → Can modify, append, or delete elements\n",
        "\n",
        "\n",
        "(E).   Use Case:\n",
        "\n",
        "*   String → Text processing\n",
        "*   List → General-purpose container\n",
        "\n",
        "\n",
        "\n",
        "\n",
        "(F).   Methods:\n",
        "\n",
        "\n",
        "*   String → .upper(), .split(), .replace(), etc.\n",
        "*   List → .append(), .remove(), .sort(), etc.\n",
        "\n",
        "\n",
        "\n",
        " (G).   Indexing & Slicing:\n",
        "\n",
        "\n",
        "*   Supported in both\n",
        "\n",
        "7. How do tuples ensure data integrity in Python?\n",
        "   * Tuples ensure data integrity in Python primarily through immutability. Here’s how and why that matters:\n",
        "\n",
        "\n",
        "(A).   Tuples Are Immutable\n",
        "\n",
        "\n",
        "*   Once a tuple is created, its elements cannot be changed, added to, or removed.\n",
        "*  This prevents accidental or unauthorized modification of data.\n",
        "\n",
        "(B).   Ideal for Fixed Data\n",
        "\n",
        "*   Constants (e.g., coordinates, dates)\n",
        "\n",
        "* Configuration settings\n",
        "\n",
        "* Function arguments that shouldn't change\n",
        "\n",
        "(C).   Hashable and Usable as Dictionary Keys\n",
        "\n",
        "*   Tuples can be used as dictionary keys or set elements if all items are immutable.\n",
        "*   This allows them to serve as identifiers or keys without risk of mutation.\n",
        "\n",
        "(D).   Encourages Functional Programming Practices\n",
        "\n",
        "*   In functional programming, data is not changed but transformed.\n",
        "\n",
        "* Tuples align with this principle, helping avoid side effects and unexpected bugs.\n",
        "8. What is a hash table, and how does it relate to dictionaries in Python?\n",
        "    *  A hash table is a data structure that stores key-value pairs and allows for fast data access using a technique called hashing. In Python, the dictionary (dict) is implemented using a hash table under the hood.\n",
        "\n",
        "(A) What is a Hash Table?  \n",
        "* A hash table uses a hash function to convert a key (like a string or number) into a unique index (hash value).\n",
        "\n",
        "* This index tells the program where to store or retrieve the value in an internal array."
      ],
      "metadata": {
        "id": "gaw3R5TiSDAb"
      }
    },
    {
      "cell_type": "code",
      "source": [
        "# Visual Example:\n",
        "my_dict = {'apple': 3, 'banana': 5}\n"
      ],
      "metadata": {
        "id": "tM0fC1RQcyBC"
      },
      "execution_count": 25,
      "outputs": []
    },
    {
      "cell_type": "markdown",
      "source": [
        "> Behind the scenes:\n",
        "\n",
        "* 'apple' → hash('apple') → index 23 → store value 3 at index 23\n",
        "\n",
        "* 'banana' → hash('banana') → index 42 → store value 5 at index 42\n",
        "\n",
        "(B) How Python Dictionaries Use Hash Tables\n",
        "\n",
        "\n",
        "1.   Hash the key:\n"
      ],
      "metadata": {
        "id": "MQS_ZxIGdCdp"
      }
    },
    {
      "cell_type": "code",
      "source": [
        "# Python runs the hash() function on the key.\n",
        "hash('apple')\n"
      ],
      "metadata": {
        "id": "ag-ZY9X1dwzy"
      },
      "execution_count": null,
      "outputs": []
    },
    {
      "cell_type": "markdown",
      "source": [
        "\n",
        "2.  Find the index:\n",
        "\n",
        "* The hash value is used to find the index in the underlying array.\n",
        "\n",
        "3. Store the pair:\n",
        "\n",
        "* The key-value pair is stored at that index.\n",
        "\n",
        "4. Retrieve in O(1) time:\n",
        "\n",
        "* When you do my_dict['apple'], Python hashes 'apple' again and quickly jumps to the correct index.\n",
        "\n",
        "(C) Handling Collisions\n",
        "\n",
        "* Sometimes, different keys may hash to the same index.\n",
        "\n",
        "* Python handles this using open addressing and probing — it looks for the next available slot.\n",
        "\n",
        "(D) Why Hash Tables Are Efficient\n",
        "\n",
        "* Fast access: Average case for lookup, insert, and delete is O(1).\n",
        "\n",
        "* Flexible keys: Can use any immutable and hashable object as a key (e.g., strings, numbers, tuples).\n",
        "\n",
        "(E) Important Notes\n",
        "\n",
        "* Keys must be hashable (i.e., have a consistent and immutable hash value).\n",
        "\n",
        "* Lists and other mutable types cannot be dictionary keys.\n",
        "9. Can lists contain different data types in Python?\n",
        "    *  Yes, lists in Python can contain different data types.\n",
        "\n",
        "Python lists are heterogeneous, meaning they can hold a mix of any data types, including:\n",
        "\n",
        "* Integers\n",
        "\n",
        "* Floats\n",
        "\n",
        "* Strings\n",
        "\n",
        "* Booleans\n",
        "\n",
        "* Other lists (nested lists)\n",
        "\n",
        "* Dictionaries\n",
        "\n",
        "* Tuples\n",
        "\n",
        "* Objects\n",
        "\n",
        "* Even functions or classes\n",
        "\n"
      ],
      "metadata": {
        "id": "AG77BLIhd8hd"
      }
    },
    {
      "cell_type": "code",
      "source": [
        "# Example:\n",
        "my_list = [42, \"hello\", 3.14, True, [1, 2], {'key': 'value'}, (5, 6)]\n",
        "print(my_list)\n"
      ],
      "metadata": {
        "id": "OGjBVcXZgPZ4"
      },
      "execution_count": null,
      "outputs": []
    },
    {
      "cell_type": "markdown",
      "source": [
        "10. Explain why strings are immutable in Python.\n",
        "    *  Strings are immutable in Python for several important design and performance reasons.\n",
        "\n",
        "(A) Data Integrity and Safety\n",
        "\n",
        "* Immutability prevents accidental changes to string values.\n",
        "\n",
        "* Once a string is created, it cannot be altered, which makes the data more reliable and predictable.\n",
        "\n",
        "(B) Performance Optimization\n",
        "\n",
        "* Python can reuse string objects in memory (a process called string interning) because it knows the string won't change.\n",
        "\n",
        "* This reduces memory usage and improves speed, especially when strings are used as keys in dictionaries or frequently compared.\n",
        "\n",
        "(C) Hashability\n",
        "\n",
        "* Because strings are immutable, they are hashable — meaning they can be used as dictionary keys or set elements.\n",
        "\n",
        "* If strings could change, their hash values would become unreliable.\n",
        "\n",
        "(D) Consistency with Other Immutable Types\n",
        "\n",
        "* Strings behave like other immutable built-in types in Python, such as integers, floats, and tuples.\n",
        "\n",
        "* This creates a consistent mental model: once created, the value doesn’t change — any operation creates a new object.\n",
        "\n",
        "11. What advantages do dictionaries offer over lists for certain tasks?\n",
        "     *  Dictionaries offer several key advantages over lists for specific tasks, especially when you're working with key-based data access. Here's a clear breakdown:\n",
        "\n",
        "(A) Fast Lookup by Key (O(1) Time Complexity)\n",
        "\n",
        "* Dictionaries use a hash table to access values via keys in constant time.\n",
        "\n",
        "* Lists require a linear search (O(n)) if you want to find a value or index based on content.\n",
        "\n",
        "(B) Semantic Clarity (Key-Value Pairs)\n",
        "\n",
        "* Dictionaries make data more readable and self-descriptive.\n",
        "\n",
        "* Keys describe the role of the value, unlike list indices which are just positions.\n",
        "\n",
        "(C)  No Need to Remember Indexes\n",
        "\n",
        "* With lists, you need to remember or guess which index holds what.\n",
        "\n",
        "* With dictionaries, you access values by descriptive keys, not positions.\n",
        "\n",
        "(D) Flexible and Dynamic Structure\n",
        "\n",
        "* You can easily add, update, or remove key-value pairs in a dictionary without worrying about order or size.\n",
        "\n",
        "(E) Avoids Duplicate Keys\n",
        "\n",
        "* Dictionaries enforce unique keys, which helps avoid data redundancy or confusion.\n",
        "\n",
        "* Lists allow duplicate values and positions, which can lead to ambiguity.\n",
        "12. Describe a scenario where using a tuple would be preferable over a list.\n",
        "    *  A tuple is preferable over a list in scenarios where you want to:\n",
        "\n",
        "> Protect Data Integrity\n",
        "\n",
        "* Scenario: Storing fixed configuration values or coordinates that should not change.\n",
        "\n"
      ],
      "metadata": {
        "id": "eXaniSGDgd24"
      }
    },
    {
      "cell_type": "code",
      "source": [
        "# Example: GPS Coordinates\n",
        "location = (40.7128, -74.0060)  # New York City (latitude, longitude)\n"
      ],
      "metadata": {
        "id": "oC0dys9unWpq"
      },
      "execution_count": 35,
      "outputs": []
    },
    {
      "cell_type": "markdown",
      "source": [
        "> Why use a tuple?\n",
        "\n",
        "* The coordinates represent a fixed value — they shouldn't be changed.\n",
        "\n",
        "* Tuples are immutable, so they guarantee the values stay the same.\n",
        "\n",
        "* It signals to other developers that this data is constant and should not be modified.\n",
        "\n",
        "13. How do sets handle duplicate values in Python?\n",
        "     *  In Python, sets automatically eliminate duplicate values. When you create a set or add items to it, Python checks each item’s hash value and only keeps unique elements.\n",
        "\n",
        "(A) How Sets Handle Duplicates\n",
        "\n",
        "* Sets are unordered collections of unique elements.\n",
        "\n",
        "* If a duplicate is added, it is ignored — no error, just silently skipped.\n",
        "\n"
      ],
      "metadata": {
        "id": "ZUO8rKFPnpqp"
      }
    },
    {
      "cell_type": "code",
      "source": [
        "# Example:\n",
        "my_set = {1, 2, 2, 3, 4, 4, 4}\n",
        "print(my_set)\n"
      ],
      "metadata": {
        "colab": {
          "base_uri": "https://localhost:8080/"
        },
        "collapsed": true,
        "id": "qztyP2G7otAx",
        "outputId": "84977d1e-9e44-4765-ab09-afbe9c8b2fba"
      },
      "execution_count": 36,
      "outputs": [
        {
          "output_type": "stream",
          "name": "stdout",
          "text": [
            "{1, 2, 3, 4}\n"
          ]
        }
      ]
    },
    {
      "cell_type": "markdown",
      "source": [
        "* Even though 2 and 4 appear multiple times in the set literal, only one instance of each is kept.\n",
        "\n",
        "> Why This Happens\n",
        "\n",
        "* Sets use a hash table, like dictionaries.\n",
        "\n",
        "* Every element in a set must be hashable and unique.\n",
        "\n",
        "* When a duplicate is added, Python finds that the hash already exists and does not add the new value.\n",
        "\n",
        "14. How does the “in” keyword work differently for lists and dictionaries?\n",
        "     *   The in keyword is used in both lists and dictionaries in Python, but it behaves differently depending on the data type.\n",
        "\n",
        "(A) in with Lists\n",
        "\n",
        "* Checks if a value exists in the list.\n",
        "\n",
        "* Performs a linear search (O(n) time complexity).\n"
      ],
      "metadata": {
        "id": "NAQNzTEHo4Ua"
      }
    },
    {
      "cell_type": "code",
      "source": [
        "# Example:\n",
        "my_list = [1, 2, 3, 4]\n",
        "print(2 in my_list)\n"
      ],
      "metadata": {
        "colab": {
          "base_uri": "https://localhost:8080/"
        },
        "collapsed": true,
        "id": "ng9btmIGq9m2",
        "outputId": "5a2ecbb2-b825-4669-ff8d-e76d9395652a"
      },
      "execution_count": 38,
      "outputs": [
        {
          "output_type": "stream",
          "name": "stdout",
          "text": [
            "True\n"
          ]
        }
      ]
    },
    {
      "cell_type": "markdown",
      "source": [
        "(B) in with Dictionaries\n",
        "\n",
        "* Checks if a key exists in the dictionary (not the value).\n",
        "\n",
        "* Performs a hash table lookup (O(1) average time complexity)."
      ],
      "metadata": {
        "id": "PmYZvm5frGct"
      }
    },
    {
      "cell_type": "code",
      "source": [
        "# Example:\n",
        "my_dict = {'a': 1, 'b': 2}\n",
        "print('a' in my_dict)\n",
        "print(1 in my_dict)\n"
      ],
      "metadata": {
        "colab": {
          "base_uri": "https://localhost:8080/"
        },
        "collapsed": true,
        "id": "oYbtgOclrWh5",
        "outputId": "a66d3e38-3dc2-4902-e84c-d351e61e398b"
      },
      "execution_count": 39,
      "outputs": [
        {
          "output_type": "stream",
          "name": "stdout",
          "text": [
            "True\n",
            "False\n"
          ]
        }
      ]
    },
    {
      "cell_type": "markdown",
      "source": [
        "15. Can you modify the elements of a tuple? Explain why or why not.\n",
        "    *  No, you cannot modify the elements of a tuple in Python. This is because tuples are immutable, meaning once a tuple is created, its contents cannot be changed — you can't add, remove, or alter any elements.\n",
        "\n",
        "(A) Why You Can't Modify a Tuple\n",
        "\n",
        "* Tuples are designed to be fixed, unchangeable sequences.\n",
        "\n",
        "* This immutability makes them:\n",
        "\n",
        "    *  Hashable (if all elements are also immutable)\n",
        "\n",
        "    *  Safe for use as dictionary keys\n",
        "\n",
        "    *  Reliable for fixed data (like coordinates, configurations, etc.)\n",
        "    "
      ],
      "metadata": {
        "id": "Z3VrtJ8CrpBg"
      }
    },
    {
      "cell_type": "code",
      "source": [
        "# Example: Attempting to Modify a Tuple\n",
        "my_tuple = (10, 20, 30)\n",
        "my_tuple[0] = 100  # ❌ 'tuple' object does not support item assignment\n",
        "\n"
      ],
      "metadata": {
        "collapsed": true,
        "id": "gn-kWNsgtHMd"
      },
      "execution_count": null,
      "outputs": []
    },
    {
      "cell_type": "markdown",
      "source": [
        "16. What is a nested dictionary, and give an example of its use case?\n",
        "    *  A nested dictionary in Python is a dictionary within another dictionary. It allows you to store hierarchical or grouped data, where each key maps to another dictionary rather than a single value.\n",
        "\n",
        "> What Is a Nested Dictionary?\n",
        "\n",
        "* A structure where values in a dictionary are themselves dictionaries.\n",
        "\n",
        "* Useful for representing complex data like JSON objects, records, or configurations.   "
      ],
      "metadata": {
        "id": "PhCtLUvhtk1o"
      }
    },
    {
      "cell_type": "code",
      "source": [
        "# Example: Nested Dictionary Structure\n",
        "students = {\n",
        "    '101': {\n",
        "        'name': 'Alice',\n",
        "        'age': 20,\n",
        "        'grades': {'math': 90, 'english': 85}\n",
        "    },\n",
        "    '102': {\n",
        "        'name': 'Bob',\n",
        "        'age': 22,\n",
        "        'grades': {'math': 75, 'english': 80}\n",
        "    }\n",
        "}\n"
      ],
      "metadata": {
        "id": "l9CTvF9tuXaK"
      },
      "execution_count": 41,
      "outputs": []
    },
    {
      "cell_type": "markdown",
      "source": [
        ">  Use Case: Student Records System\n",
        "\n",
        "* Why a nested dictionary is useful here:\n",
        "   *  Each student (outer key) has their own details (inner dictionary).\n",
        "\n",
        "   * You can easily organize and access grouped information."
      ],
      "metadata": {
        "id": "LRHbjOhwujrh"
      }
    },
    {
      "cell_type": "code",
      "source": [
        "# Example:\n",
        "print(students['101']['grades']['math'])  # Output: 90\n"
      ],
      "metadata": {
        "collapsed": true,
        "colab": {
          "base_uri": "https://localhost:8080/"
        },
        "id": "aaH4qE7du5QU",
        "outputId": "e409649e-8c78-45a5-a78c-90ca090208f0"
      },
      "execution_count": 42,
      "outputs": [
        {
          "output_type": "stream",
          "name": "stdout",
          "text": [
            "90\n"
          ]
        }
      ]
    },
    {
      "cell_type": "markdown",
      "source": [
        "17. Describe the time complexity of accessing elements in a dictionary?\n",
        "    *  In Python, accessing elements in a dictionary is very fast — thanks to its underlying hash table implementation.\n",
        "\n",
        "(A)  Average Case: O(1) — Constant Time\n",
        "\n",
        "* When you do my_dict[key], Python uses the hash of the key to jump directly to the location in memory where the value is stored.\n",
        "\n",
        "* This makes dictionary lookups, insertions, and deletions very efficient in most cases."
      ],
      "metadata": {
        "id": "TEW-ZbuovIiy"
      }
    },
    {
      "cell_type": "code",
      "source": [
        "# Example:\n",
        "data = {'name': 'Alice', 'age': 30}\n",
        "print(data['age'])\n"
      ],
      "metadata": {
        "colab": {
          "base_uri": "https://localhost:8080/"
        },
        "collapsed": true,
        "id": "kI2L5Rx0vvbt",
        "outputId": "21915fa5-6482-40f7-b4b8-892acca1e375"
      },
      "execution_count": 43,
      "outputs": [
        {
          "output_type": "stream",
          "name": "stdout",
          "text": [
            "30\n"
          ]
        }
      ]
    },
    {
      "cell_type": "markdown",
      "source": [
        "(B) Worst Case: O(n) — Rare but Possible\n",
        "\n",
        "* Can occur due to hash collisions, where multiple keys hash to the same index.\n",
        "\n",
        "* Python resolves collisions internally, but in theory, if many keys collide, access could degrade to linear time.\n",
        "\n",
        "* This is extremely rare in practice due to Python’s efficient hash functions and collision handling.\n",
        "\n",
        "18. In what situations are lists preferred over dictionaries?\n",
        "     *  Lists are preferred over dictionaries in Python when:\n",
        "\n",
        "(A) Order Matters\n",
        "\n",
        "* Lists preserve the insertion order and allow index-based access.\n",
        "\n",
        "* Use a list when the position of elements is important."
      ],
      "metadata": {
        "id": "GZ5MlVKHv8kV"
      }
    },
    {
      "cell_type": "code",
      "source": [
        "# Example\n",
        "fruits = ['apple', 'banana', 'cherry']\n",
        "print(fruits[1])\n"
      ],
      "metadata": {
        "colab": {
          "base_uri": "https://localhost:8080/"
        },
        "collapsed": true,
        "id": "k7rGQxsfwuG5",
        "outputId": "e0616a6d-03c2-4a53-cfd5-fc04fc9cec84"
      },
      "execution_count": 45,
      "outputs": [
        {
          "output_type": "stream",
          "name": "stdout",
          "text": [
            "banana\n"
          ]
        }
      ]
    },
    {
      "cell_type": "markdown",
      "source": [
        "(B) Sequential Data Without Labels\n",
        "\n",
        "* Use lists for collections of items where you don’t need to label each element.\n",
        "\n",
        "* Great for simple sequences, like numbers, names, or tasks.\n",
        "\n",
        "(C) Duplicate Values Are Needed\n",
        "\n",
        "* Lists allow duplicates, which is useful when repetition is meaningful."
      ],
      "metadata": {
        "id": "TjJ1kbYaw8I8"
      }
    },
    {
      "cell_type": "code",
      "source": [
        "# example\n",
        "votes = ['Alice', 'Bob', 'Alice']\n"
      ],
      "metadata": {
        "id": "hUld2BTPxTUx"
      },
      "execution_count": 46,
      "outputs": []
    },
    {
      "cell_type": "markdown",
      "source": [
        "(D) You Need to Loop in Order\n",
        "\n",
        "* Lists are ideal when you want to iterate in a specific order.\n",
        "\n",
        "* Dictionaries also maintain order (as of Python 3.7+), but list iteration is simpler for ordered data processing.\n",
        "\n",
        "(E) Simpler Structure\n",
        "\n",
        "* Lists are simpler and lighter for small or flat datasets where key-value pairs are unnecessary.\n",
        "\n",
        "19. Why are dictionaries considered unordered, and how does that affect data retrieval?\n",
        "   *  Historically, dictionaries in Python were considered unordered because they did not preserve the insertion order of items. However, this has changed in recent versions of Python.\n",
        "\n",
        ">  Before Python 3.7: Unordered Behavior\n",
        "\n",
        "* Dictionaries did not guarantee that items would appear in the order they were added.\n",
        "\n",
        "* This meant that retrieving keys or values in a specific order was unreliable.\n",
        "\n",
        "> From Python 3.7 Onward: Insertion Order Preserved\n",
        "\n",
        "* Dictionaries now maintain insertion order as part of the language spec.\n",
        "\n",
        "* If you insert items in a certain order, they will be iterated in that same order."
      ],
      "metadata": {
        "id": "YsfyC8SyxfZx"
      }
    },
    {
      "cell_type": "code",
      "source": [
        "# Example\n",
        "d = {'a': 1, 'b': 2, 'c': 3}\n",
        "print(d)\n"
      ],
      "metadata": {
        "colab": {
          "base_uri": "https://localhost:8080/"
        },
        "collapsed": true,
        "id": "DVXdgTHGzkoy",
        "outputId": "a9aab24c-5ca1-4b98-d7c3-d02e4a160f0a"
      },
      "execution_count": 48,
      "outputs": [
        {
          "output_type": "stream",
          "name": "stdout",
          "text": [
            "{'a': 1, 'b': 2, 'c': 3}\n"
          ]
        }
      ]
    },
    {
      "cell_type": "markdown",
      "source": [
        " > So Why Are Dictionaries Still Called \"Unordered\"?\n",
        "\n",
        "* The term \"unordered\" originally referred to the internal structure: dictionaries use hash tables, which don’t sort elements by keys or values.\n",
        "\n",
        "* Even though insertion order is preserved, dictionaries do not guarantee any logical or sorted order unless explicitly sorted.\n",
        "\n",
        ">  How This Affects Data Retrieval\n",
        "\n",
        "* Accessing by key: Still O(1) and unaffected by order.\n",
        "\n",
        "* Iterating over items:\n",
        "\n",
        "     (a) Pre-3.7: Order could vary → less predictable.\n",
        "\n",
        "     (b) 3.7+: Order is predictable → easier for developers, especially in display or testing.\n",
        "\n",
        "20.  Explain the difference between a list and a dictionary in terms of data retrieval.\n",
        "    *  Here's a clear breakdown of the difference between a list and a dictionary in Python, specifically in terms of data retrieval:\n",
        "> List - Data Retrieval\n",
        "\n",
        "* Data is retrieved by index (numeric position).\n",
        "\n",
        "*  Indexing starts from 0.\n",
        "\n",
        "*  To find a value, you must know its position.\n",
        "\n",
        "*  O(1) time to access by index.\n",
        "\n",
        "*  O(n) time to search for a value (linear search).\n",
        "\n",
        "* No labels or keys for elements — just ordered positions."
      ],
      "metadata": {
        "id": "OSwD9UnPz08K"
      }
    },
    {
      "cell_type": "code",
      "source": [
        "# Example\n",
        "colors = ['red', 'green', 'blue']\n",
        "print(colors[2])\n"
      ],
      "metadata": {
        "colab": {
          "base_uri": "https://localhost:8080/"
        },
        "collapsed": true,
        "id": "0b_M1DZc13cA",
        "outputId": "c4ac15db-d116-43bc-dbed-55c06dd8328d"
      },
      "execution_count": 50,
      "outputs": [
        {
          "output_type": "stream",
          "name": "stdout",
          "text": [
            "blue\n"
          ]
        }
      ]
    },
    {
      "cell_type": "markdown",
      "source": [
        "> Dictionary – Data Retrieval\n",
        "\n",
        "* Data is retrieved by a key (not position).\n",
        "\n",
        "* Keys are unique and descriptive.\n",
        "\n",
        "*  To access a value, you must know its key.\n",
        "\n",
        "* O(1) average time to access by key (hash table).\n",
        "\n",
        "*  Supports fast lookup, insertion, and deletion by key.\n",
        "\n",
        "*  Maintains insertion order (Python 3.7+)."
      ],
      "metadata": {
        "id": "iOoInO7L2Fwq"
      }
    },
    {
      "cell_type": "code",
      "source": [
        "# Example\n",
        "person = {'name': 'Alice', 'age': 25}\n",
        "print(person['age'])\n",
        "\n"
      ],
      "metadata": {
        "colab": {
          "base_uri": "https://localhost:8080/"
        },
        "collapsed": true,
        "id": "Hu8vmvh42ZO3",
        "outputId": "2e1b1f40-caca-4ef0-e223-bc52aebb3d89"
      },
      "execution_count": 52,
      "outputs": [
        {
          "output_type": "stream",
          "name": "stdout",
          "text": [
            "25\n"
          ]
        }
      ]
    },
    {
      "cell_type": "markdown",
      "source": [
        "# Practical Questions"
      ],
      "metadata": {
        "id": "kII2jZT-2vCW"
      }
    },
    {
      "cell_type": "code",
      "source": [
        "1 # Write a code to create a string with your name and print it.\n",
        "my_name = \"Riya Ojha\"\n",
        "\n",
        "print(\"My name is:\", my_name)\n"
      ],
      "metadata": {
        "colab": {
          "base_uri": "https://localhost:8080/"
        },
        "collapsed": true,
        "id": "UJAHA5p57Ma7",
        "outputId": "0295e6ad-d48e-4786-e8a4-46546387b0d1"
      },
      "execution_count": 58,
      "outputs": [
        {
          "output_type": "stream",
          "name": "stdout",
          "text": [
            "My name is: Riya Ojha\n"
          ]
        }
      ]
    },
    {
      "cell_type": "code",
      "source": [
        "2 # Write a code to find the length of the string \"Hello World\".\n",
        "\n",
        "text = \"Hello World\"\n",
        "\n",
        "length = len(text)\n",
        "print(\"Length of the string:\", length)\n"
      ],
      "metadata": {
        "colab": {
          "base_uri": "https://localhost:8080/"
        },
        "collapsed": true,
        "id": "7PVCMDN96jid",
        "outputId": "d55b8eb0-0328-4f72-d5c4-8decd30fcec8"
      },
      "execution_count": 59,
      "outputs": [
        {
          "output_type": "stream",
          "name": "stdout",
          "text": [
            "Length of the string: 11\n"
          ]
        }
      ]
    },
    {
      "cell_type": "code",
      "source": [
        "3 # Write a code to slice the first 3 characters from the string \"Python Programming\".\n",
        "\n",
        "text = \"Python Programming\"\n",
        "\n",
        "sliced_text = text[:3]\n",
        "\n",
        "print(\"First 3 characters:\", sliced_text)\n"
      ],
      "metadata": {
        "colab": {
          "base_uri": "https://localhost:8080/"
        },
        "collapsed": true,
        "id": "5mqHonbL8D6S",
        "outputId": "122e4f09-9003-418b-a2d9-6ad9acdea8cd"
      },
      "execution_count": 60,
      "outputs": [
        {
          "output_type": "stream",
          "name": "stdout",
          "text": [
            "First 3 characters: Pyt\n"
          ]
        }
      ]
    },
    {
      "cell_type": "code",
      "source": [
        "4 # Write a code to convert the string \"hello\" to uppercase.\n",
        "\n",
        "text = \"hello\"\n",
        "\n",
        "uppercase_text = text.upper()\n",
        "\n",
        "print(\"Uppercase:\", uppercase_text)\n"
      ],
      "metadata": {
        "colab": {
          "base_uri": "https://localhost:8080/"
        },
        "collapsed": true,
        "id": "OWV2w95j8lC9",
        "outputId": "0b45da17-0468-4bb9-bcb6-24847864f237"
      },
      "execution_count": 61,
      "outputs": [
        {
          "output_type": "stream",
          "name": "stdout",
          "text": [
            "Uppercase: HELLO\n"
          ]
        }
      ]
    },
    {
      "cell_type": "code",
      "source": [
        "5 # Write a code to replace the word \"apple\" with \"orange\" in the string \"I like apple\".\n",
        "\n",
        "text = \"I like apple\"\n",
        "\n",
        "new_text = text.replace(\"apple\", \"orange\")\n",
        "\n",
        "print(\"Updated string:\", new_text)\n"
      ],
      "metadata": {
        "colab": {
          "base_uri": "https://localhost:8080/"
        },
        "collapsed": true,
        "id": "M8ctbRCq9ml0",
        "outputId": "1faf19e2-ca6d-4bd8-ef91-667d117a362b"
      },
      "execution_count": 62,
      "outputs": [
        {
          "output_type": "stream",
          "name": "stdout",
          "text": [
            "Updated string: I like orange\n"
          ]
        }
      ]
    },
    {
      "cell_type": "code",
      "source": [
        "6 #  Write a code to create a list with numbers 1 to 5 and print it.\n",
        "\n",
        "numbers = [1, 2, 3, 4, 5]\n",
        "\n",
        "print(\"List of numbers:\", numbers)\n"
      ],
      "metadata": {
        "colab": {
          "base_uri": "https://localhost:8080/"
        },
        "collapsed": true,
        "id": "T5mnkfNc-FtX",
        "outputId": "d1f9deee-d36d-46b4-cef9-aac6fd864b05"
      },
      "execution_count": 63,
      "outputs": [
        {
          "output_type": "stream",
          "name": "stdout",
          "text": [
            "List of numbers: [1, 2, 3, 4, 5]\n"
          ]
        }
      ]
    },
    {
      "cell_type": "code",
      "source": [
        "7 # Write a code to append the number 10 to the list [1, 2, 3, 4].\n",
        "\n",
        "numbers = [1, 2, 3, 4]\n",
        "\n",
        "numbers.append(10)\n",
        "\n",
        "print(\"Updated list:\", numbers)\n"
      ],
      "metadata": {
        "colab": {
          "base_uri": "https://localhost:8080/"
        },
        "collapsed": true,
        "id": "2BoPXKRV-bbc",
        "outputId": "11b1da11-ab83-4d88-e93f-cfe6a975286b"
      },
      "execution_count": 64,
      "outputs": [
        {
          "output_type": "stream",
          "name": "stdout",
          "text": [
            "Updated list: [1, 2, 3, 4, 10]\n"
          ]
        }
      ]
    },
    {
      "cell_type": "code",
      "source": [
        "8 # Write a code to remove the number 3 from the list [1, 2, 3, 4, 5].\n",
        "\n",
        "numbers = [1, 2, 3, 4, 5]\n",
        "\n",
        "numbers.remove(3)\n",
        "\n",
        "print(\"Updated list:\", numbers)\n"
      ],
      "metadata": {
        "colab": {
          "base_uri": "https://localhost:8080/"
        },
        "collapsed": true,
        "id": "qIFevavS-3il",
        "outputId": "215b9ea0-b948-4c31-b2f7-cb8d2ca3fb42"
      },
      "execution_count": 65,
      "outputs": [
        {
          "output_type": "stream",
          "name": "stdout",
          "text": [
            "Updated list: [1, 2, 4, 5]\n"
          ]
        }
      ]
    },
    {
      "cell_type": "code",
      "source": [
        "9 # Write a code to access the second element in the list ['a', 'b', 'c', 'd'].\n",
        "\n",
        "letters = ['a', 'b', 'c', 'd']\n",
        "\n",
        "second_element = letters[1]\n",
        "\n",
        "print(\"Second element:\", second_element)\n"
      ],
      "metadata": {
        "colab": {
          "base_uri": "https://localhost:8080/"
        },
        "collapsed": true,
        "id": "HL3UXB92_jLf",
        "outputId": "4e37d12b-d9b5-43f3-fcbd-be0c67d6c417"
      },
      "execution_count": 66,
      "outputs": [
        {
          "output_type": "stream",
          "name": "stdout",
          "text": [
            "Second element: b\n"
          ]
        }
      ]
    },
    {
      "cell_type": "code",
      "source": [
        "10 # Write a code to reverse the list [10, 20, 30, 40, 50].\n",
        "\n",
        "numbers = [10, 20, 30, 40, 50]\n",
        "\n",
        "numbers.reverse()\n",
        "\n",
        "print(\"Reversed list:\", numbers)\n"
      ],
      "metadata": {
        "colab": {
          "base_uri": "https://localhost:8080/"
        },
        "collapsed": true,
        "id": "Dr3tO03q_6Es",
        "outputId": "bd1960b9-d225-4d73-988d-d30251fac533"
      },
      "execution_count": 67,
      "outputs": [
        {
          "output_type": "stream",
          "name": "stdout",
          "text": [
            "Reversed list: [50, 40, 30, 20, 10]\n"
          ]
        }
      ]
    },
    {
      "cell_type": "code",
      "source": [
        "11 #  Write a code to create a tuple with the elements 100, 200, 300 and print it.\n",
        "\n",
        "my_tuple = (100, 200, 300)\n",
        "\n",
        "print(\"The tuple is:\", my_tuple)\n"
      ],
      "metadata": {
        "colab": {
          "base_uri": "https://localhost:8080/"
        },
        "collapsed": true,
        "id": "fXERyxJ9APAU",
        "outputId": "d7db81e6-cc14-4b21-baa8-b401007e175a"
      },
      "execution_count": 68,
      "outputs": [
        {
          "output_type": "stream",
          "name": "stdout",
          "text": [
            "The tuple is: (100, 200, 300)\n"
          ]
        }
      ]
    },
    {
      "cell_type": "code",
      "source": [
        "12. # Write a code to access the second-to-last element of the tuple ('red', 'green', 'blue', 'yellow').\n",
        "\n",
        "colors = ('red', 'green', 'blue', 'yellow')\n",
        "\n",
        "second_to_last = colors[-2]\n",
        "\n",
        "print(\"Second-to-last element:\", second_to_last)\n"
      ],
      "metadata": {
        "colab": {
          "base_uri": "https://localhost:8080/"
        },
        "collapsed": true,
        "id": "sgUbkF6OAh9x",
        "outputId": "f5bbe496-5aad-490e-a18d-44e75085812b"
      },
      "execution_count": 69,
      "outputs": [
        {
          "output_type": "stream",
          "name": "stdout",
          "text": [
            "Second-to-last element: blue\n"
          ]
        }
      ]
    },
    {
      "cell_type": "code",
      "source": [
        "13 # Write a code to find the minimum number in the tuple (10, 20, 5, 15).\n",
        "\n",
        "numbers = (10, 20, 5, 15)\n",
        "\n",
        "min_number = min(numbers)\n",
        "\n",
        "print(\"Minimum number:\", min_number)\n"
      ],
      "metadata": {
        "colab": {
          "base_uri": "https://localhost:8080/"
        },
        "collapsed": true,
        "id": "P66DHzysA6TP",
        "outputId": "1813a20a-d628-4c33-9ad0-122e176e058b"
      },
      "execution_count": 70,
      "outputs": [
        {
          "output_type": "stream",
          "name": "stdout",
          "text": [
            "Minimum number: 5\n"
          ]
        }
      ]
    },
    {
      "cell_type": "code",
      "source": [
        "14 # Write a code to find the index of the element \"cat\" in the tuple ('dog', 'cat', 'rabbit').\n",
        "\n",
        "animals = ('dog', 'cat', 'rabbit')\n",
        "\n",
        "index_of_cat = animals.index('cat')\n",
        "\n",
        "print(\"Index of 'cat':\", index_of_cat)\n"
      ],
      "metadata": {
        "colab": {
          "base_uri": "https://localhost:8080/"
        },
        "collapsed": true,
        "id": "v3Hb7MbxBbwP",
        "outputId": "8a83c4cd-4355-44ed-f2ea-309772f4ce55"
      },
      "execution_count": 71,
      "outputs": [
        {
          "output_type": "stream",
          "name": "stdout",
          "text": [
            "Index of 'cat': 1\n"
          ]
        }
      ]
    },
    {
      "cell_type": "code",
      "source": [
        "15 # Write a code to create a tuple containing three different fruits and check if \"kiwi\" is in it.\n",
        "\n",
        "fruits = ('apple', 'banana', 'cherry')\n",
        "\n",
        "is_kiwi_in_tuple = 'kiwi' in fruits\n",
        "\n",
        "print(\"Is 'kiwi' in the tuple?\", is_kiwi_in_tuple)\n"
      ],
      "metadata": {
        "colab": {
          "base_uri": "https://localhost:8080/"
        },
        "collapsed": true,
        "id": "sLKoct2sB92w",
        "outputId": "e18e89c7-1c2c-4a1d-8f5c-45f4c4e70cba"
      },
      "execution_count": 72,
      "outputs": [
        {
          "output_type": "stream",
          "name": "stdout",
          "text": [
            "Is 'kiwi' in the tuple? False\n"
          ]
        }
      ]
    },
    {
      "cell_type": "code",
      "source": [
        "16 # Write a code to create a set with the elements 'a', 'b', 'c' and print it.\n",
        "\n",
        "my_set = {'a', 'b', 'c'}\n",
        "\n",
        "print(\"The set is:\", my_set)\n"
      ],
      "metadata": {
        "colab": {
          "base_uri": "https://localhost:8080/"
        },
        "collapsed": true,
        "id": "e4xwHo9UCWF1",
        "outputId": "ce6dea43-dcf7-4fe9-bd62-ee9cd4156c80"
      },
      "execution_count": 73,
      "outputs": [
        {
          "output_type": "stream",
          "name": "stdout",
          "text": [
            "The set is: {'c', 'b', 'a'}\n"
          ]
        }
      ]
    },
    {
      "cell_type": "code",
      "source": [
        "17 # Write a code to clear all elements from the set {1, 2, 3, 4, 5}.\n",
        "\n",
        "my_set = {1, 2, 3, 4, 5}\n",
        "\n",
        "my_set.clear()\n",
        "\n",
        "print(\"Set after clearing:\", my_set)\n"
      ],
      "metadata": {
        "colab": {
          "base_uri": "https://localhost:8080/"
        },
        "collapsed": true,
        "id": "NIdO01iCCpRn",
        "outputId": "5b6de8e1-3572-4816-eabf-df886dfbc53c"
      },
      "execution_count": 74,
      "outputs": [
        {
          "output_type": "stream",
          "name": "stdout",
          "text": [
            "Set after clearing: set()\n"
          ]
        }
      ]
    },
    {
      "cell_type": "code",
      "source": [
        "18 # Write a code to remove the element 4 from the set {1, 2, 3, 4}.\n",
        "\n",
        "my_set = {1, 2, 3, 4}\n",
        "\n",
        "my_set.remove(4)\n",
        "\n",
        "print(\"Set after removing 4:\", my_set)\n"
      ],
      "metadata": {
        "colab": {
          "base_uri": "https://localhost:8080/"
        },
        "collapsed": true,
        "id": "YP8lu6U7C8ic",
        "outputId": "65b063b5-99e0-4ab5-e478-5132cb17a3de"
      },
      "execution_count": 75,
      "outputs": [
        {
          "output_type": "stream",
          "name": "stdout",
          "text": [
            "Set after removing 4: {1, 2, 3}\n"
          ]
        }
      ]
    },
    {
      "cell_type": "code",
      "source": [
        "19 # Write a code to find the union of two sets {1, 2, 3} and {3, 4, 5}.\n",
        "\n",
        "set1 = {1, 2, 3}\n",
        "set2 = {3, 4, 5}\n",
        "\n",
        "union_set = set1.union(set2)\n",
        "\n",
        "print(\"Union of the sets:\", union_set)\n"
      ],
      "metadata": {
        "colab": {
          "base_uri": "https://localhost:8080/"
        },
        "collapsed": true,
        "id": "cQHyXYx6DO9T",
        "outputId": "402e2021-d48c-41c5-c1d5-583797b44e30"
      },
      "execution_count": 76,
      "outputs": [
        {
          "output_type": "stream",
          "name": "stdout",
          "text": [
            "Union of the sets: {1, 2, 3, 4, 5}\n"
          ]
        }
      ]
    },
    {
      "cell_type": "code",
      "source": [
        "20 # Write a code to find the intersection of two sets {1, 2, 3} and {2, 3, 4}.\n",
        "\n",
        "set1 = {1, 2, 3}\n",
        "set2 = {2, 3, 4}\n",
        "\n",
        "intersection_set = set1.intersection(set2)\n",
        "\n",
        "print(\"Intersection of the sets:\", intersection_set)\n"
      ],
      "metadata": {
        "colab": {
          "base_uri": "https://localhost:8080/"
        },
        "collapsed": true,
        "id": "XVmheXv-DkTm",
        "outputId": "e2cd389f-4a63-4fe3-fbe5-583987890877"
      },
      "execution_count": 77,
      "outputs": [
        {
          "output_type": "stream",
          "name": "stdout",
          "text": [
            "Intersection of the sets: {2, 3}\n"
          ]
        }
      ]
    },
    {
      "cell_type": "code",
      "source": [
        "21 # Write a code to create a dictionary with the keys \"name\", \"age\", and \"city\", and print it.\n",
        "\n",
        "person = {\n",
        "    \"name\": \"Alice\",\n",
        "    \"age\": 30,\n",
        "    \"city\": \"New York\"\n",
        "}\n",
        "\n",
        "print(\"Person dictionary:\", person)\n"
      ],
      "metadata": {
        "colab": {
          "base_uri": "https://localhost:8080/"
        },
        "collapsed": true,
        "id": "ppYFOau4Dzl_",
        "outputId": "7b22bb36-3bcb-4b13-9ddc-8d428eae8cf2"
      },
      "execution_count": 78,
      "outputs": [
        {
          "output_type": "stream",
          "name": "stdout",
          "text": [
            "Person dictionary: {'name': 'Alice', 'age': 30, 'city': 'New York'}\n"
          ]
        }
      ]
    },
    {
      "cell_type": "code",
      "source": [
        "22 # Write a code to add a new key-value pair \"country\": \"USA\" to the dictionary {'name': 'John', 'age': 25}.\n",
        "\n",
        "person = {'name': 'John', 'age': 25}\n",
        "\n",
        "person['country'] = 'USA'\n",
        "\n",
        "print(\"Updated dictionary:\", person)\n"
      ],
      "metadata": {
        "colab": {
          "base_uri": "https://localhost:8080/"
        },
        "collapsed": true,
        "id": "quoc31iTEH4a",
        "outputId": "228e7dd6-65e3-484c-faaa-2c43147d849f"
      },
      "execution_count": 79,
      "outputs": [
        {
          "output_type": "stream",
          "name": "stdout",
          "text": [
            "Updated dictionary: {'name': 'John', 'age': 25, 'country': 'USA'}\n"
          ]
        }
      ]
    },
    {
      "cell_type": "code",
      "source": [
        "23 # Write a code to access the value associated with the key \"name\" in the dictionary {'name': 'Alice', 'age': 30}.\n",
        "\n",
        "person = {'name': 'Alice', 'age': 30}\n",
        "\n",
        "print(\"Updated dictionary:\", person)\n"
      ],
      "metadata": {
        "colab": {
          "base_uri": "https://localhost:8080/"
        },
        "collapsed": true,
        "id": "F5zOG7BcEZuU",
        "outputId": "931f5b93-b4d5-4a5d-a83e-27110b7cb65e"
      },
      "execution_count": 82,
      "outputs": [
        {
          "output_type": "stream",
          "name": "stdout",
          "text": [
            "Updated dictionary: {'name': 'Alice', 'age': 30}\n"
          ]
        }
      ]
    },
    {
      "cell_type": "code",
      "source": [
        "24 # Write a code to remove the key \"age\" from the dictionary {'name': 'Bob', 'age': 22, 'city': 'New York'}.\n",
        "\n",
        "person = {'name': 'Bob', 'age': 22, 'city': 'New York'}\n",
        "\n",
        "person.pop('age')\n",
        "\n",
        "print(\"Updated dictionary:\", person)\n"
      ],
      "metadata": {
        "colab": {
          "base_uri": "https://localhost:8080/"
        },
        "collapsed": true,
        "id": "gOYBWlsFE86t",
        "outputId": "34ba7d30-4ccb-42bf-a90c-ad79be93ac38"
      },
      "execution_count": 83,
      "outputs": [
        {
          "output_type": "stream",
          "name": "stdout",
          "text": [
            "Updated dictionary: {'name': 'Bob', 'city': 'New York'}\n"
          ]
        }
      ]
    },
    {
      "cell_type": "code",
      "source": [
        "25 # Write a code to check if the key \"city\" exists in the dictionary {'name': 'Alice', 'city': 'Paris'}.\n",
        "\n",
        "person = {'name': 'Alice', 'city': 'Paris'}\n",
        "\n",
        "if 'city' in person:\n",
        "    print(\"Key 'city' exists in the dictionary.\")\n",
        "else:\n",
        "    print(\"Key 'city' does not exist in the dictionary.\")\n"
      ],
      "metadata": {
        "colab": {
          "base_uri": "https://localhost:8080/"
        },
        "collapsed": true,
        "id": "h4QQkStQFTDG",
        "outputId": "f8859ccc-ddbf-477e-dc5a-32113b1359c4"
      },
      "execution_count": 84,
      "outputs": [
        {
          "output_type": "stream",
          "name": "stdout",
          "text": [
            "Key 'city' exists in the dictionary.\n"
          ]
        }
      ]
    },
    {
      "cell_type": "code",
      "source": [
        "26 # Write a code to create a list, a tuple, and a dictionary, and print them all.\n",
        "\n",
        "my_list = [1, 2, 3, 4, 5]\n",
        "\n",
        "my_tuple = ('apple', 'banana', 'cherry')\n",
        "\n",
        "my_dict = {'name': 'Alice', 'age': 30, 'city': 'London'}\n",
        "\n",
        "print(\"List:\", my_list)\n",
        "print(\"Tuple:\", my_tuple)\n",
        "print(\"Dictionary:\", my_dict)\n"
      ],
      "metadata": {
        "colab": {
          "base_uri": "https://localhost:8080/"
        },
        "collapsed": true,
        "id": "QC4mFXwdFmwd",
        "outputId": "56b4a8f9-dcae-4d8c-8213-54fdc55205dd"
      },
      "execution_count": 85,
      "outputs": [
        {
          "output_type": "stream",
          "name": "stdout",
          "text": [
            "List: [1, 2, 3, 4, 5]\n",
            "Tuple: ('apple', 'banana', 'cherry')\n",
            "Dictionary: {'name': 'Alice', 'age': 30, 'city': 'London'}\n"
          ]
        }
      ]
    },
    {
      "cell_type": "code",
      "source": [
        "27 # Write a code to create a list of 5 random numbers between 1 and 100, sort it in ascending order, and print the result.(replaced)\n",
        "\n",
        "import random\n",
        "\n",
        "\n",
        "random_numbers = [random.randint(1, 100) for _ in range(5)]\n",
        "\n",
        "random_numbers.sort()\n",
        "\n",
        "print(\"Sorted list of random numbers:\", random_numbers)\n"
      ],
      "metadata": {
        "colab": {
          "base_uri": "https://localhost:8080/"
        },
        "collapsed": true,
        "id": "0Ku_My-bGgI8",
        "outputId": "bb09e441-b169-4684-e36a-8f50921a0ebd"
      },
      "execution_count": 92,
      "outputs": [
        {
          "output_type": "stream",
          "name": "stdout",
          "text": [
            "Sorted list of random numbers: [16, 21, 27, 30, 65]\n"
          ]
        }
      ]
    },
    {
      "cell_type": "code",
      "source": [
        "28 #  Write a code to create a list with strings and print the element at the third index.\n",
        "\n",
        "my_list = [\"apple\", \"banana\", \"cherry\", \"date\", \"elderberry\"]\n",
        "\n",
        "print(\"Element at the third index:\", my_list[3])\n"
      ],
      "metadata": {
        "colab": {
          "base_uri": "https://localhost:8080/"
        },
        "collapsed": true,
        "id": "PCcak7HUHGMy",
        "outputId": "55f17fba-d1fa-415a-9b6d-fad58a547719"
      },
      "execution_count": 93,
      "outputs": [
        {
          "output_type": "stream",
          "name": "stdout",
          "text": [
            "Element at the third index: date\n"
          ]
        }
      ]
    },
    {
      "cell_type": "code",
      "source": [
        "29 # Write a code to combine two dictionaries into one and print the result.\n",
        "\n",
        "dict1 = {'name': 'Alice', 'age': 25}\n",
        "dict2 = {'city': 'New York', 'job': 'Engineer'}\n",
        "\n",
        "combined_dict = {**dict1, **dict2}\n",
        "\n",
        "print(\"Combined dictionary:\", combined_dict)\n"
      ],
      "metadata": {
        "colab": {
          "base_uri": "https://localhost:8080/"
        },
        "collapsed": true,
        "id": "fUlT6sevHaX3",
        "outputId": "89e17ad7-9705-47c0-c956-1e05a9e4efe4"
      },
      "execution_count": 94,
      "outputs": [
        {
          "output_type": "stream",
          "name": "stdout",
          "text": [
            "Combined dictionary: {'name': 'Alice', 'age': 25, 'city': 'New York', 'job': 'Engineer'}\n"
          ]
        }
      ]
    },
    {
      "cell_type": "code",
      "source": [
        "30 # Write a code to convert a list of strings into a set.\n",
        "\n",
        "my_list = [\"apple\", \"banana\", \"cherry\", \"apple\", \"date\"]\n",
        "\n",
        "my_set = set(my_list)\n",
        "\n",
        "print(\"Converted set:\", my_set)\n"
      ],
      "metadata": {
        "colab": {
          "base_uri": "https://localhost:8080/"
        },
        "collapsed": true,
        "id": "vsvX8TrwHrNe",
        "outputId": "d7a7cb6e-41f3-4f2a-d156-75aaf30abdca"
      },
      "execution_count": 95,
      "outputs": [
        {
          "output_type": "stream",
          "name": "stdout",
          "text": [
            "Converted set: {'date', 'cherry', 'banana', 'apple'}\n"
          ]
        }
      ]
    }
  ]
}